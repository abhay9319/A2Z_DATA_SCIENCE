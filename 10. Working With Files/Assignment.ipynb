{
 "cells": [
  {
   "cell_type": "code",
   "execution_count": null,
   "id": "00eafcb3",
   "metadata": {},
   "outputs": [],
   "source": [
    "\n",
    "# Amazon Job Dataset\n",
    "\n",
    "# For this assignment, we'll be using \"Amazon Job Dataset\" which is collected by scraping https://amazon.jobs or can access the dataset from this link:\n",
    "\n",
    "# https://docs.google.com/spreadsheets/d/1AiA837JyZRygtvgGc9BzEj7BvjkOOlA07uW2d1dCWlw/edit?usp=sharing"
   ]
  },
  {
   "cell_type": "code",
   "execution_count": 11,
   "id": "85256c48",
   "metadata": {},
   "outputs": [
    {
     "name": "stdout",
     "output_type": "stream",
     "text": [
      "66 1856\n"
     ]
    }
   ],
   "source": [
    "## Job Location\n",
    "\n",
    "# Given File amazonjobsdataset.csv (Please check Dataset preview name)\n",
    "# It is a dataset including information on amazon job opening around the world from June 2011 to March 2018. This dataset is collected using Selenium and BeautifulSoup by scraping all of the jobs for Amazon job site. Problem Statement :\n",
    "# Find number of job openings in Bangalore,IN and in Seattle,US? Print the Number of Job opening in Bangalore and Seattle as Integer value.\n",
    "\n",
    "import csv\n",
    "with open('Datasets/amazon_jobs_dataset.csv') as file_obj:\n",
    "    file_data = csv.reader(file_obj, skipinitialspace=True)\n",
    "\n",
    "bcount=0\n",
    "scount=0\n",
    "for row in file_list:\n",
    "    if row[2]=='US, WA, Seattle ':\n",
    "        scount+=1\n",
    "    elif row[2]=='IN, KA, Bangalore ':\n",
    "        bcount+=1\n",
    "print(bcount,end=\" \")\n",
    "print(scount)"
   ]
  },
  {
   "cell_type": "code",
   "execution_count": 24,
   "id": "d897e887",
   "metadata": {},
   "outputs": [
    {
     "name": "stdout",
     "output_type": "stream",
     "text": [
      "14\n"
     ]
    }
   ],
   "source": [
    "\n",
    "# Job Computer Vision\n",
    "\n",
    "# Given File 'amazonjobsdataset.csv'\n",
    "# It is a dataset including information on amazon job opening around the world from June 2011 to March 2018. This dataset is collected using Selenium and BeautifulSoup by scraping all of the jobs for Amazon job site.\n",
    "# Problem Statement : What are the total number of job openings related to Computer Vision ? Note:For finding the job related to computer vision check the Job Title column. Print the count as the Integer Value\n",
    "\n",
    "import csv\n",
    "with open('Datasets/amazon_jobs_dataset.csv', 'r', encoding=\"utf8\") as file_obj :\n",
    "    csv_data = csv.DictReader(file_obj, skipinitialspace = True)\n",
    "    \n",
    "    job=0\n",
    "    for row in csv_data:\n",
    "        if 'Computer Vision' in row['Title'] :\n",
    "            job += 1\n",
    "    print(job)\n",
    "\n",
    "\n",
    "\n"
   ]
  },
  {
   "cell_type": "code",
   "execution_count": 33,
   "id": "b64160fd",
   "metadata": {},
   "outputs": [
    {
     "name": "stdout",
     "output_type": "stream",
     "text": [
      "156\n"
     ]
    }
   ],
   "source": [
    "\n",
    "# Job Canada\n",
    "\n",
    "# Given File 'amazonjobsdataset.csv'\n",
    "# It is a dataset including information on amazon job opening around the world from June 2011 to March 2018. This dataset is collected using Selenium and BeautifulSoup by scraping all of the jobs for Amazon job site.\n",
    "# Problem Statement : Find the number of job openings in Canada? Print the count as the Integer Value\n",
    "\n",
    "import csv \n",
    "with open('Datasets/amazon_jobs_dataset.csv',encoding='utf-8') as file_obj:\n",
    "    file_data=csv.reader(file_obj, skipinitialspace=True)\n",
    "    job=0\n",
    "    for row in file_data:\n",
    "        if row[2].startswith(\"CA\") :\n",
    "            job+=1\n",
    "    print(job)\n"
   ]
  },
  {
   "cell_type": "code",
   "execution_count": 49,
   "id": "fb007389",
   "metadata": {},
   "outputs": [
    {
     "name": "stdout",
     "output_type": "stream",
     "text": [
      "January 907\n"
     ]
    }
   ],
   "source": [
    "\n",
    "# Job Month 2018\n",
    "\n",
    "# Given File 'amazonjobsdataset.csv'\n",
    "# It is a dataset including information on amazon job opening around the world from June 2011 to March 2018. This dataset is collected using Selenium and BeautifulSoup by scraping all of the jobs for Amazon job site.\n",
    "# Problem Statement : Find the month having most job openings in Year 2018 ? Print the month (Month Name i.e January, February, March) and Number of job opening as Integer Value\n",
    "\n",
    "import csv\n",
    "with open('Datasets/amazon_jobs_dataset.csv', encoding='utf-8') as file_obj:\n",
    "    file_data = csv.DictReader(file_obj, skipinitialspace=True)\n",
    "    d = {}\n",
    "    for row in file_data:\n",
    "        date = row['Posting_date'].split(',')\n",
    "        if date[1].strip() == '2018':\n",
    "            month = date[0].split()[0]\n",
    "            if month in d:\n",
    "                d[month] += 1\n",
    "            else:\n",
    "                d[month] = 1\n",
    "\n",
    "    count = -1\n",
    "    month_name = ''\n",
    "    for month in d:\n",
    "        if d[month] > count:\n",
    "            count = d[month]\n",
    "            month_name = month\n",
    "\n",
    "    print(month_name, count)"
   ]
  },
  {
   "cell_type": "code",
   "execution_count": 51,
   "id": "b0338cf1",
   "metadata": {},
   "outputs": [
    {
     "name": "stdout",
     "output_type": "stream",
     "text": [
      "2961\n"
     ]
    }
   ],
   "source": [
    "# Job Degree\n",
    "\n",
    "# Given File 'amazonjobsdataset.csv'\n",
    "# It is a dataset including information on amazon job opening around the world from June 2011 to March 2018. This dataset is collected using Selenium and BeautifulSoup by scraping all of the jobs for Amazon job site.\n",
    "# Problem Statement : Find the number of job openings are present if applicant have Bachelor degree? Print the count as Integer value Note : Here we will use the BASIC QUALIFICATIONS feature to find out whether bachelor degree for Job is required or not. Keywords that can be used are 'Bachelor', 'BS' and 'BA'.\n",
    "\n",
    "import csv\n",
    "with open('Datasets/amazon_jobs_dataset.csv', 'r', encoding=\"utf8\") as file_obj :\n",
    "    file_data = csv.DictReader(file_obj, skipinitialspace = True)\n",
    "    \n",
    "    count=0\n",
    "    for row in file_data:\n",
    "        if 'Bachelor' in row['BASIC QUALIFICATIONS'] or 'BA' in row['BASIC QUALIFICATIONS'] or 'BS' in row['BASIC QUALIFICATIONS'] : \n",
    "            count += 1\n",
    "    print(count)\n",
    "    "
   ]
  },
  {
   "cell_type": "code",
   "execution_count": 52,
   "id": "9417804c",
   "metadata": {},
   "outputs": [
    {
     "name": "stdout",
     "output_type": "stream",
     "text": [
      "Java 103\n"
     ]
    }
   ],
   "source": [
    "# Problem-6 : Job Language\n",
    "\n",
    "# Problem Statement :\n",
    "# Among Java, C++ and Python, which of the language has more job openings in India for Bachelor Degree Holder?\n",
    "# Print the Language(i.e Java,C++,Python) and number of job opening as integer value.\n",
    "# Note : Here we will use the BASIC QUALIFICATIONS feature to find out whether bachelor degree for Job is required or not. Keywords that can be used are 'Bachelor', 'BS' and 'BA' and we will use the BASIC QUALIFICATIONS feature to find out whether Language is required for the job or not.Keywords that is used for language searching are 'Java','C++' or 'Python'.(There case should not be changed).\n",
    "\n",
    "\n",
    "\n",
    "import csv\n",
    "with open('Datasets/amazon_jobs_dataset.csv', 'r', encoding=\"utf8\") as file_obj :\n",
    "    csv_data = csv.DictReader(file_obj, skipinitialspace = True)\n",
    "    \n",
    "    python = 0\n",
    "    java = 0\n",
    "    c = 0\n",
    "    for row in csv_data:\n",
    "        country = row['location'].split(',')[0]\n",
    "        if country == 'IN' :\n",
    "                bachelor = row['BASIC QUALIFICATIONS']\n",
    "                if ('Bachelor' in bachelor) or ('BA' in bachelor) or ('BS' in bachelor) : \n",
    "                    if 'Python' in bachelor :\n",
    "                        python += 1\n",
    "                    if 'C++' in bachelor :\n",
    "                        c += 1\n",
    "                    if 'Java' in bachelor :\n",
    "                        java += 1\n",
    "                \n",
    "  \n",
    "    if python > java and python > c :\n",
    "        print('Python',python)\n",
    "    elif java > python and java > c :\n",
    "        print('Java',java)\n",
    "    else:\n",
    "        print('C++',c)\n",
    "\n"
   ]
  },
  {
   "cell_type": "code",
   "execution_count": 53,
   "id": "73e4df54",
   "metadata": {},
   "outputs": [
    {
     "name": "stdout",
     "output_type": "stream",
     "text": [
      "US 2009\n"
     ]
    }
   ],
   "source": [
    "# Problem-7 : Job Java\n",
    "\n",
    "# Problem Statement :\n",
    "# Find the country does Amazon need the most number of Java Developer?\n",
    "# Print the Country(Country Shortcut as given in Dataset) and number of job opening as integer value\n",
    "# Note :Here we will use the BASIC QUALIFICATIONS feature to find out whether Java is required for the job or not.Keyword is used is 'Java'.(Here case should not be changed).\n",
    "\n",
    "import csv\n",
    "with open('Datasets/amazon_jobs_dataset.csv', 'r', encoding=\"utf8\") as file_obj :\n",
    "    csv_data = csv.DictReader(file_obj, skipinitialspace = True)\n",
    "    \n",
    "    d={}\n",
    "    for row in csv_data:\n",
    "        qulification = row['BASIC QUALIFICATIONS']\n",
    "        if 'Java' in qulification :\n",
    "            country = row['location'].split(',')[0]\n",
    "            if country in d :\n",
    "                d[country] += 1\n",
    "            else:\n",
    "                d[country] = 1\n",
    "                \n",
    "    max1 = -1\n",
    "    country_name = ''\n",
    "    for country in d:\n",
    "        if d[country] > max1:\n",
    "            max1 = d[country]\n",
    "            country_name = country\n",
    "    print(country_name,max1)"
   ]
  },
  {
   "cell_type": "code",
   "execution_count": null,
   "id": "8cb24f2f",
   "metadata": {},
   "outputs": [],
   "source": []
  }
 ],
 "metadata": {
  "kernelspec": {
   "display_name": "Python 3 (ipykernel)",
   "language": "python",
   "name": "python3"
  },
  "language_info": {
   "codemirror_mode": {
    "name": "ipython",
    "version": 3
   },
   "file_extension": ".py",
   "mimetype": "text/x-python",
   "name": "python",
   "nbconvert_exporter": "python",
   "pygments_lexer": "ipython3",
   "version": "3.11.5"
  }
 },
 "nbformat": 4,
 "nbformat_minor": 5
}
